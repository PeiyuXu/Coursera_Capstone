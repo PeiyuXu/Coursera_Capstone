{
    "nbformat_minor": 1, 
    "cells": [
        {
            "source": "# Exploring Commercial Permits Applications with Venues Nearby in Prince George's County, Maryland, US", 
            "cell_type": "markdown", 
            "metadata": {
                "collapsed": true
            }
        }, 
        {
            "source": "Author: Peiyu Xu\n<br> Date: Feb20, 2019", 
            "cell_type": "markdown", 
            "metadata": {}
        }, 
        {
            "source": "## Introduction", 
            "cell_type": "markdown", 
            "metadata": {}
        }, 
        {
            "source": "Operating a business involves many steps. Location selection is necessary and it will affect future revenues. Typically, a business owner considers population, transportation and accessibility, infrastucture, competiton, neighbors, renting cost as factors in location selection. In this project, I will use dataset about residential and commercial permits (2012 to 2013) from Prince George's County and venue result obtained from FourSquare to explore why a business permit applicant choose the specific location, by clustering nearby existing venues into different groups, and to evaluate whether nearby venues would benefit the applicant's business. ", 
            "cell_type": "markdown", 
            "metadata": {}
        }, 
        {
            "source": "Prince Geroge's County (PGC) is the second-most populous county in Maryland state, United States with 912,756 residences (2017), bordering the eastern porition od Washington D.C. It is one of the most richest African-American-majority counties in the U.S. People living in PGC are convenient to commute among nearby states/regions including Washington D.C, Virginia and West Virginia with metro, bus, train, or private vehicle. More information about PGC can be obtained by this link:\n<br>https://www.princegeorgescountymd.gov/", 
            "cell_type": "markdown", 
            "metadata": {}
        }, 
        {
            "source": "Foursquare City Guide, commonly known as Foursquare, is a location provider and provides personalized recommendations on places (or venues) to visit. It can be accessed via its mobile application and official website. Users will be provided with the name of venue, type of business (e.g. restuarant, hotel), rating, comments, location, and a lot of other information. An individual customer can be exposed to wider and wiser choice of venues, and an investor can evaluate the business opportunities and risks with Foursquare data. See more information, use the link: https://foursquare.com/", 
            "cell_type": "markdown", 
            "metadata": {}
        }, 
        {
            "source": "## Data and Methodology", 
            "cell_type": "markdown", 
            "metadata": {}
        }, 
        {
            "source": "The list of data and source:\n1. Residential and Commercial Permits (Jan 2012 through June 2013)\n<br> link: https://data.princegeorgescountymd.gov/Urban-Planning/Residential-and-Commercial-Permits-Jan-2012-throug/dqvr-xqvv\n2. Data from Foursquare obtained from search queries.</ol>\nThe first dataset will be explained in details.", 
            "cell_type": "markdown", 
            "metadata": {}
        }, 
        {
            "source": "The _Residential and Commercial Permits (Jan 2012 through June 2013)_ dataset documented the details of residential and commercial permits issued from January 2012 to June 2013. There are 18,202 observations and 12 columns. Lists of columns are shown below:", 
            "cell_type": "markdown", 
            "metadata": {}
        }, 
        {
            "source": "- **Permit Category** : The category of the permit                                \n- **County Agency** : Name of the agency                                        \n- **Permit Case ID** : Unique identifier of each case                     \n- **Permit Case Year** :The year of when the permit issued                        -\n- **Permit Case Type** : Type of the permit                                        \n- **Permit Case Name** : Name of the permit                                       \n- **Street Address** : street address only                                                      \n- **City** : city name                                                 \n- **Zip Code** : zip code of the location where the permit would be used   \n- **Permit Issuance Date** : The date when the permit was issued.                      \n- **Expected Construction Cost** : Expected Construction Cost                                \n- **Location** : Latitude and longtitude           ", 
            "cell_type": "markdown", 
            "metadata": {}
        }, 
        {
            "source": "", 
            "cell_type": "markdown", 
            "metadata": {}
        }, 
        {
            "source": "", 
            "cell_type": "markdown", 
            "metadata": {}
        }, 
        {
            "source": "", 
            "cell_type": "markdown", 
            "metadata": {}
        }
    ], 
    "metadata": {
        "kernelspec": {
            "display_name": "Python 3.5", 
            "name": "python3", 
            "language": "python"
        }, 
        "language_info": {
            "mimetype": "text/x-python", 
            "nbconvert_exporter": "python", 
            "version": "3.5.5", 
            "name": "python", 
            "file_extension": ".py", 
            "pygments_lexer": "ipython3", 
            "codemirror_mode": {
                "version": 3, 
                "name": "ipython"
            }
        }
    }, 
    "nbformat": 4
}